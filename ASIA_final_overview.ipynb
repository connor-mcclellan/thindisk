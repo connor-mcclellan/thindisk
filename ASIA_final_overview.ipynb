{
 "cells": [
  {
   "cell_type": "markdown",
   "metadata": {},
   "source": [
    "# The Thin Disk Accretion Model in GR"
   ]
  },
  {
   "cell_type": "markdown",
   "metadata": {},
   "source": [
    "## Background\n",
    "\n",
    "### What is a black hole?\n",
    "\n",
    "For the purposes of this experiment, a black hole is a strong source of gravity at the center of our accretion disk structure. A black hole can heat up the material that falls into it via friction and tidal forces, which makes this material emit light.\n",
    "\n",
    "### What is an accretion disk?\n",
    "\n",
    "Gravitational forces from massive objects pull things inwards. Accretion is what happens when matter actually falls on to the central object. In a lot of cases, due to conservation of angular momentum and friction forces, the matter will organize itself into a disk as it falls inwards, called an accretion disk.\n",
    "\n",
    "### What is the \"Thin Disk\" accretion model?\n",
    "\n",
    "In the thin disk model, we assume\n",
    " 1. the material is orbiting much faster than it's falling in. The motion of the gas toward the black hole is slower than the gas's motion *around* the black hole. \n",
    " 2. the accretion disk is almost flat (its height is very small compared to its width)\n",
    " 3. gravitational forces are much larger than gas pressure forces\n",
    " 4. the flow of gas is stationary (not dependent on time)\n",
    " 5. the flow is rotationally symmetric\n",
    " 6. there is no outflowing material --- only *infalling* material\n",
    " \n",
    " Under these approximations, the equations of thin disk accretion can be derived using conservation of mass, radial and angular momentum, and energy.\n",
    " \n",
    "### What is General Relativity?\n",
    "\n",
    "General Relativity sounds complicated, and the math truly *is* complicated, but the concept is pretty straightforward. General Relativity is just a way of explaining gravity. It's literally a \"theory of gravitation\"! \n",
    "\n",
    "Einstein's Theory of General Relativity states that the observed gravitational effect between masses results from their warping of spacetime. Think of this as a bowling ball and a marble on a rubber sheet. Both will deform the sheet, and the objects will roll on the surface as a result of the deformation. \n",
    "\n",
    "Of course, in real life this occurs in 4 dimensions --- 3 dimensions of space, and 1 dimension of time. The effects of this deformation are slightly different than if you think of gravity as a simple attractive force, so that's why it's important to consider for objects like black holes and neutron stars.\n",
    "\n",
    "### Why does it matter?\n",
    "\n",
    "The thin disk model is a fairly simple equation. Such equations are exciting in physics because it's easy to use them to compare with observations, and they're general enough that they can explain a large variety of systems we see in nature. Think of it as a scientist's \"point-of-reference\" with which to compare what we see in real life. Does something agree well with the thin disk model? If it does, the assumptions of the thin disk model listed above are likely to be true.\n",
    "\n",
    "General Relativity is an exciting theory of gravity, and scientists are always testing it to see if it applies even in the most extreme environments. Any opportunity to compare the effects of General Relativity with the equivalent Newtonian gravity model is illuminating, and can be used to understand which physics is important in which scenarios. It could be that GR is entirely insignificant in the thin disk model, or it could be that you get a completely wrong answer if you *don't* consider it! You and I don't know which it is, so that's what we're trying to figure out with this experiment.\n",
    "\n",
    "### What are we trying to show?\n",
    "\n",
    "In this experiment, we seek to understand what can be gained from adding an accurate treatment of general relativity to the simple thin disk accretion model. We will accomplish this by testing a GR thin disk model against a Newtonian thin disk model and seeing how their radial flux, temperature, radiative efficiency, and density profiles compare. \n",
    "\n",
    "### Hypothesis\n",
    "\n",
    "The null hypothesis for this project would be something like \"The gravity model used, Newtonian or GR, has no effect on the radial profiles of the accretion disk, nor on the radiative efficiency of the disk\". Through our comparison of the two gravity models, we have shown three independent ways in which the Newtonian gravity model and GR model differ, indicating that adding GR to the model does in fact make a difference.\n",
    "\n",
    "#### Variables\n",
    "\n",
    "**Independent Variables**: These are the things we \"change\" to see an effect, to put it loosely. For our project we need to break this down into levels since it's not a straightforward \"change x and observe y\" experiment.\n",
    " - Our test: Change the gravity model to see how the radial profiles and radiative efficiency are affected. Independent variable: we choose either Newtonian Gravity or GR gravity. Dependent variable: our suite of radial profiles and observables.\n",
    " \n",
    "**Dependent Variables**: These are things we want to observe and quantify based on how the independent variables change.\n",
    " - Radial flux profile\n",
    "     - Sub-independent variables: Radius, black hole spin\n",
    "     - Sub-dependent variable: Flux (energy per area per time)\n",
    " - Radial temperature profile\n",
    "     - Sub-independent variables: Radius, black hole spin\n",
    "     - Sub-dependent variable: Temperature (Kelvin)\n",
    " - Radiative efficiency\n",
    "     - Sub-independent variable: black hole spin\n",
    "     - Sub-dependent variable: Efficiency (as a fraction of total energy)\n",
    "\n",
    "### How do we show it?\n",
    "\n",
    "Your figures should guide your work and presentation. Here's a list of what we want to show for this experiment.\n",
    "\n",
    "1. A comparison plot of the Newtonian thin disk flux profile and several GR flux profiles, color-coded and labeled by the black hole spin. The x-axis will be radius / gravitational radius, and the y axis will be flux.\n",
    "2. A comparison plot of the Newtonian thin disk temperature profile and several GR temperature profiles, color-coded and labeled by the black hole spin. The x-axis will be radus / gravitational radius, and the y axis will be temperature.\n",
    "3. A plot of the radiative efficiency as a function of black hole spin. The x axis will be the black hole spin and the y axis will be the radiative efficiency. Plot points with a line through them for the GR case, and plot a horizontal line for the Newtonian case (since it does not depend on a*).\n",
    "    - For this, will first need to use numerical integration to calculate the luminosity of the disk given the flux as a function of radius. Will cover this and give assistance!\n",
    "\n",
    "In addition to talking about your methods, discussion of the results of each of these plots will form the basis of your presentation."
   ]
  },
  {
   "cell_type": "code",
   "execution_count": null,
   "metadata": {},
   "outputs": [],
   "source": []
  }
 ],
 "metadata": {
  "kernelspec": {
   "display_name": "Python 3",
   "language": "python",
   "name": "python3"
  },
  "language_info": {
   "codemirror_mode": {
    "name": "ipython",
    "version": 3
   },
   "file_extension": ".py",
   "mimetype": "text/x-python",
   "name": "python",
   "nbconvert_exporter": "python",
   "pygments_lexer": "ipython3",
   "version": "3.7.6"
  }
 },
 "nbformat": 4,
 "nbformat_minor": 4
}
