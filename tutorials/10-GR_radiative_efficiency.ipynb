{
 "cells": [
  {
   "cell_type": "code",
   "execution_count": 1,
   "metadata": {},
   "outputs": [],
   "source": [
    "from plot_disk import grcor\n",
    "import matplotlib.pyplot as plt\n",
    "import astropy.constants as c\n",
    "import astropy.units as u\n",
    "import numpy as np\n",
    "\n",
    "def r_grav(m):\n",
    "    grav_radius = ((c.G * m) / (c.c**2))\n",
    "    return grav_radius.to(u.cm)\n",
    "\n",
    "def f_function(a, r, M):\n",
    "    qcor, tcor = grcor(a, r/r_grav(M))\n",
    "    return tcor**4\n",
    "\n",
    "def F_gr(a, r, r_in, M, Mdot):\n",
    "    flux = 3. * c.G * M * Mdot / (8. * np.pi * r**3) * f_function(a, r, M)    # Calculate the flux\n",
    "    flux[flux<0.] = 0.\n",
    "    return flux.to(u.Unit(\"erg/(cm2 s)\"))\n"
   ]
  },
  {
   "cell_type": "markdown",
   "metadata": {},
   "source": [
    "Here are the functions we know and love! The last one gives us the flux as a function of radius using the GR function you wrote in the last tutorial. In this bit of code, we want to make a plot of the radiative efficiency as a function of black hole spin. This is a bit more complicated than it sounds for the GR case, but the Newtonian gravity case is fairly easy since there's just an equation for it:"
   ]
  },
  {
   "cell_type": "code",
   "execution_count": 2,
   "metadata": {},
   "outputs": [
    {
     "data": {
      "text/latex": [
       "$0.083333333 \\; \\mathrm{}$"
      ],
      "text/plain": [
       "<Quantity 0.08333333>"
      ]
     },
     "execution_count": 2,
     "metadata": {},
     "output_type": "execute_result"
    }
   ],
   "source": [
    "def rad_efficiency_newtonian(M, r_in):\n",
    "    return (c.G * M / (2. * c.c.cgs**2. * r_in)).decompose()\n",
    "\n",
    "\n",
    "M = 6.62*u.solMass\n",
    "rad_efficiency_newtonian(M,  6*r_grav(M))"
   ]
  },
  {
   "cell_type": "markdown",
   "metadata": {},
   "source": [
    "Excellent! This is the exact result we expect analytically: 1/12. This tells us that the radiative efficiency of a black hole with interior radius set to 6 gravitational radii is always 1/12 --- that is, 1/12 of the energy produced by the infalling material is expelled as light.\n",
    "\n",
    "**But how do we add GR?**\n",
    "This is where things get tricky. Not only does the radiative efficiency now depend on the black hole spin, but *so does the interior radius*, `r_in`. We need a new function that tells us what interior radius to use if we have a certain value set for `a`, the black hole spin parameter. Here's the code for that:"
   ]
  },
  {
   "cell_type": "code",
   "execution_count": 3,
   "metadata": {},
   "outputs": [],
   "source": [
    "def get_r_isco(a, M):\n",
    "    z1 = 1 + np.cbrt(1 - a**2) * (np.cbrt(1 + a) + np.cbrt(1 - a))\n",
    "    z2 = np.sqrt(3*a**2 + z1**2)\n",
    "    r_isco = (c.G * M / c.c.cgs**2 * (3 + z2 - np.sqrt((3-z1) * (3 + z1 + 2*z2)))).to(u.cm)\n",
    "    return r_isco"
   ]
  },
  {
   "cell_type": "markdown",
   "metadata": {},
   "source": [
    "This radius, called the \"ISCO\" for Innermost Stable Circular Orbit, is a value that should be equal to 6 gravitational radii for a non-spinning black hole and 1 gravitational radius for a maximally spinning black hole. Remember that non-spinning means `a=0`, and maximally-spinning is `a=1`. We also need to be able to calculate all values in between. Let's test it out."
   ]
  },
  {
   "cell_type": "code",
   "execution_count": 4,
   "metadata": {},
   "outputs": [
    {
     "name": "stdout",
     "output_type": "stream",
     "text": [
      "5865154.651135095 cm\n",
      "6.000000000000001\n"
     ]
    }
   ],
   "source": [
    "# NON-spinning case\n",
    "a = 0\n",
    "M = 6.62*u.solMass\n",
    "\n",
    "print(get_r_isco(a, M))\n",
    "print(get_r_isco(a, M)/r_grav(M))"
   ]
  },
  {
   "cell_type": "code",
   "execution_count": 5,
   "metadata": {},
   "outputs": [
    {
     "name": "stdout",
     "output_type": "stream",
     "text": [
      "978246.4867973599 cm\n",
      "1.00073728143694\n"
     ]
    }
   ],
   "source": [
    "# Maximally-spinning case\n",
    "a = 0.9999999999\n",
    "M = 6.62*u.solMass\n",
    "\n",
    "print(get_r_isco(a, M))\n",
    "print(get_r_isco(a, M)/r_grav(M))"
   ]
  },
  {
   "cell_type": "markdown",
   "metadata": {},
   "source": [
    "Excellent! This ISCO function gives us the correct number of gravitational radii to use for `r_in`, depending on what value of `a` we want to plug in. Now, we need to use this to calculate the radiative efficiency using a numerical integral. Here's how that works:"
   ]
  },
  {
   "cell_type": "code",
   "execution_count": 6,
   "metadata": {},
   "outputs": [],
   "source": [
    "import scipy.integrate\n",
    "def get_efficiency(r_in, r_out, a, M, Mdot):\n",
    "    # Create an array of radii to integrate over\n",
    "    r_array = np.linspace(r_in, r_out, 1000)\n",
    "    integrand = 4*np.pi*r_array*F_gr(a, r_array, r_in, M, Mdot)\n",
    "    #luminosity = np.trapz(integrand, r_array)\n",
    "    luminosity = scipy.integrate.simps(integrand, r_array) * u.erg / u.s\n",
    "    return (luminosity / (Mdot * c.c.cgs**2)).decompose()"
   ]
  },
  {
   "cell_type": "markdown",
   "metadata": {},
   "source": [
    "So, now we can call the two functions together after setting our parameters to get the radiative efficiency in the GR case."
   ]
  },
  {
   "cell_type": "code",
   "execution_count": 7,
   "metadata": {},
   "outputs": [],
   "source": [
    "a = 0.999999999\n",
    "M = 6.62 * u.solMass\n",
    "Mdot = 0.000025 * u.solMass / u.yr\n",
    "r_in = get_r_isco(a, M)\n",
    "r_out = 500 * r_grav(M) # Set this waaay far out for the integration to be accurate"
   ]
  },
  {
   "cell_type": "code",
   "execution_count": 8,
   "metadata": {},
   "outputs": [
    {
     "data": {
      "text/latex": [
       "$0.44693458 \\; \\mathrm{}$"
      ],
      "text/plain": [
       "<Quantity 0.44693458>"
      ]
     },
     "execution_count": 8,
     "metadata": {},
     "output_type": "execute_result"
    }
   ],
   "source": [
    "get_efficiency(r_in, r_out, a, M, Mdot)"
   ]
  },
  {
   "cell_type": "markdown",
   "metadata": {},
   "source": [
    "This is very close to the expected theoretical GR result! Now let's write some code to get and store this efficiency for a set of values for `a`. We'll also recalculate the Newtonian efficiency using the values for r_isco that we generate along the way, because this also has an effect on the efficiency."
   ]
  },
  {
   "cell_type": "code",
   "execution_count": 9,
   "metadata": {},
   "outputs": [
    {
     "name": "stderr",
     "output_type": "stream",
     "text": [
      "/home/connor/anaconda3/lib/python3.7/site-packages/astropy/units/quantity.py:481: RuntimeWarning: invalid value encountered in power\n",
      "  result = super().__array_ufunc__(function, method, *arrays, **kwargs)\n"
     ]
    }
   ],
   "source": [
    "M = 6.62 * u.solMass\n",
    "Mdot = 0.000025 * u.solMass / u.yr\n",
    "r_out = 500 * r_grav(M)\n",
    "a_vals = [1e-8, 0.1, 0.2, 0.3, 0.4, 0.5, 0.6, 0.7, 0.8, 0.9, 0.999999999]\n",
    "gr_efficiency_vals = []\n",
    "newt_efficiency_vals = []\n",
    "for a in a_vals:\n",
    "    r_in = get_r_isco(a, M)\n",
    "    efficiency = get_efficiency(r_in, r_out, a, M, Mdot)\n",
    "    gr_efficiency_vals.append(efficiency)\n",
    "    newt_efficiency_vals.append(rad_efficiency_newtonian(M, r_in))"
   ]
  },
  {
   "cell_type": "code",
   "execution_count": 10,
   "metadata": {},
   "outputs": [
    {
     "data": {
      "image/png": "[encoded data removed]",
      "text/plain": [
       "<Figure size 432x288 with 1 Axes>"
      ]
     },
     "metadata": {
      "needs_background": "light"
     },
     "output_type": "display_data"
    }
   ],
   "source": [
    "plt.scatter(a_vals, gr_efficiency_vals, marker='s', c='k', label='General Relativistic Calculation')\n",
    "plt.scatter(a_vals, newt_efficiency_vals, marker='s', c='r', label='Newtonian Calculation')\n",
    "#plt.axhline(rad_efficiency_newtonian(M, 6*r_grav(M)), c='r', label=\"Newtonian Gravity Calculation\")\n",
    "plt.ylabel(\"Radiative Efficiency\")\n",
    "plt.xlabel(\"Dimensionless Black Hole Spin\")\n",
    "plt.legend()\n",
    "plt.show()"
   ]
  },
  {
   "cell_type": "markdown",
   "metadata": {},
   "source": [
    "Here we have shown that more rapidly spinning black holes will radiate more energy per unit mass, which means their radiative efficiencies are higher. However, you can see that a Newtonian gravity model will slightly overestimate the radiative efficiency. The effects of General Relativity seem to slighly reduce the ability of black holes to produce radiation."
   ]
  },
  {
   "cell_type": "code",
   "execution_count": null,
   "metadata": {},
   "outputs": [],
   "source": []
  }
 ],
 "metadata": {
  "kernelspec": {
   "display_name": "Python 3",
   "language": "python",
   "name": "python3"
  },
  "language_info": {
   "codemirror_mode": {
    "name": "ipython",
    "version": 3
   },
   "file_extension": ".py",
   "mimetype": "text/x-python",
   "name": "python",
   "nbconvert_exporter": "python",
   "pygments_lexer": "ipython3",
   "version": "3.7.6"
  }
 },
 "nbformat": 4,
 "nbformat_minor": 4
}
