{
 "cells": [
  {
   "cell_type": "code",
   "execution_count": 7,
   "metadata": {},
   "outputs": [
    {
     "name": "stdout",
     "output_type": "stream",
     "text": [
      "Hello, world!\n"
     ]
    }
   ],
   "source": [
    "print('Hello, world!')"
   ]
  },
  {
   "cell_type": "markdown",
   "metadata": {},
   "source": [
    "# Programming Best Practices\n",
    "\n",
    "The best place to get this information is, of course, the official Python documentation! https://docs.python-guide.org/writing/style/\n",
    "\n",
    "I've distilled some of the most important points down below."
   ]
  },
  {
   "cell_type": "markdown",
   "metadata": {},
   "source": [
    "## Style Guides"
   ]
  },
  {
   "cell_type": "markdown",
   "metadata": {},
   "source": [
    "### PEP20\n",
    "\n",
    "https://www.python.org/dev/peps/pep-0020/\n",
    "\n",
    "A sort of poem that outlines how you should think about coding choices you make. Here are a few lines to consider.\n",
    "\n",
    " - Beautiful is better than ugly.\n",
    " - Explicit is better than implicit.\n",
    " - Simple is better than complex.\n",
    " - Complex is better than complicated.\n",
    " - Flat is better than nested.\n",
    " - Sparse is better than dense.\n",
    " - Readability counts.\n",
    " - Special cases aren't special enough to break the rules.\n"
   ]
  },
  {
   "cell_type": "markdown",
   "metadata": {},
   "source": [
    " ### PEP 8\n",
    " \n",
    " https://www.python.org/dev/peps/pep-0008/\n",
    " \n",
    " A comprehensive style guide outlining the formatting of spaces, comments, variable names, functions --- everything!"
   ]
  },
  {
   "cell_type": "markdown",
   "metadata": {},
   "source": [
    "## Loops\n",
    "\n",
    "Some high-powered languages are built around efficiency and use large array operations to do their calculations. Python is built for efficiency and ease-of-use. If you can do something in Python elegantly with an array, that's great! But, if not, it's not the end of the world. Break it up into a loop so you can understand what's happening at every iteration."
   ]
  },
  {
   "cell_type": "code",
   "execution_count": 8,
   "metadata": {},
   "outputs": [
    {
     "name": "stdout",
     "output_type": "stream",
     "text": [
      "23.5 1000\n",
      "12.5 1200\n",
      "43.7 1400\n",
      "34.6 1600\n",
      "56.8 1800\n"
     ]
    }
   ],
   "source": [
    "# BAD EXAMPLE\n",
    "\n",
    "fluxes = [23.5, 12.5, 43.7, 34.6, 56.8]\n",
    "frequencies = [1000, 1200, 1400, 1600, 1800]\n",
    "\n",
    "print(fluxes[0], frequencies[0])\n",
    "print(fluxes[1], frequencies[1])\n",
    "print(fluxes[2], frequencies[2])\n",
    "print(fluxes[3], frequencies[3])\n",
    "print(fluxes[4], frequencies[4])"
   ]
  },
  {
   "cell_type": "code",
   "execution_count": 9,
   "metadata": {},
   "outputs": [
    {
     "name": "stdout",
     "output_type": "stream",
     "text": [
      "23.5 1000\n",
      "12.5 1200\n",
      "43.7 1400\n",
      "34.6 1600\n",
      "56.8 1800\n"
     ]
    }
   ],
   "source": [
    "# GOOD EXAMPLE\n",
    "\n",
    "fluxes = [23.5, 12.5, 43.7, 34.6, 56.8]\n",
    "frequencies = [1000, 1200, 1400, 1600, 1800]\n",
    "\n",
    "for i in range(len(fluxes)):\n",
    "    print(fluxes[i], frequencies[i])"
   ]
  },
  {
   "cell_type": "markdown",
   "metadata": {},
   "source": [
    "## Functions\n",
    "\n",
    "If you find yourself coding something similar over and over again (including things like plotting!), chances are you could make your code more efficient and readable simply by adding a function. Use keyword arguments to handle a few different cases at once!"
   ]
  },
  {
   "cell_type": "raw",
   "metadata": {},
   "source": [
    "# BAD EXAMPLE\n",
    "\n",
    "P = 0.0*times\n",
    "for i in range(times.size):\n",
    "    t=times[i]\n",
    "    for n in range(1,4):\n",
    "      for m in range(0,1):\n",
    "        P[i]=P[i] + Pnmsoln[n-1,m]*np.exp(ssoln[n-1,m]*t)\n",
    "plt.plot(times/tlc,tlc*P,label='(3,0)')\n",
    "\n",
    "P = 0.0*times\n",
    "for i in range(times.size):\n",
    "    t=times[i]\n",
    "    for n in range(1,4):\n",
    "      for m in range(0,2):\n",
    "        P[i]=P[i] + Pnmsoln[n-1,m]*np.exp(ssoln[n-1,m]*t)\n",
    "plt.plot(times/tlc,tlc*P,label='(3,1)')\n",
    "\n",
    "P = 0.0*times\n",
    "for i in range(times.size):\n",
    "    t=times[i]\n",
    "    for n in range(1,4):\n",
    "      for m in range(0,3):\n",
    "        P[i]=P[i] + Pnmsoln[n-1,m]*np.exp(ssoln[n-1,m]*t)\n",
    "plt.plot(times/tlc,tlc*P,label='(3,2)')\n",
    "\n",
    "P = 0.0*times\n",
    "for i in range(times.size):\n",
    "    t=times[i]\n",
    "    for n in range(1,4):\n",
    "      for m in range(0,4):\n",
    "        P[i]=P[i] + Pnmsoln[n-1,m]*np.exp(ssoln[n-1,m]*t)\n",
    "plt.plot(times/tlc,tlc*P,label='(3,3)')"
   ]
  },
  {
   "cell_type": "code",
   "execution_count": null,
   "metadata": {},
   "outputs": [],
   "source": [
    "# GOOD EXAMPLE\n",
    "\n",
    "def plot_solution(times, Pnmsoln, ssoln, tlc, label=None, nlimits=[1, 4], mlimits=[0, 20]):\n",
    "    P = np.zeros(times.size)\n",
    "    for i in range(times.size):\n",
    "        t = times[i]\n",
    "        for n in range(nlimits[0], nlimits[1]):\n",
    "            for m in range(mlimits[0], mlimits[1]):\n",
    "                P[i]=P[i] + Pnmsoln[n-1,m]*np.exp(ssoln[n-1,m]*t)\n",
    "    plt.plot(times/tlc, tlc*P, label=label)"
   ]
  },
  {
   "cell_type": "markdown",
   "metadata": {},
   "source": [
    "## Variable Names\n",
    "\n",
    "You shouldn't need a million comments to understand what your own variables are. When your projects get more complicated, it quickly becomes a nightmare to navigate your own code if your variable names aren't specific and descriptive. If you find yourself needing to add comments to every line to see what's going on, try making your variables more descriptive. It requires more typing, but is much better than the alternative."
   ]
  },
  {
   "cell_type": "code",
   "execution_count": null,
   "metadata": {},
   "outputs": [],
   "source": [
    "# BAD EXAMPLE\n",
    "import numpy as np\n",
    "\n",
    "a = np.array([34, 25, 36, 45, 23, 56, 34, 23])\n",
    "b = ['Bob', 'Susie', 'Jordan', 'Michael', 'Trent', 'Claudia', 'Yvonne', 'Markus']\n",
    "c = ['Bookkeeper', 'Bookkeeper', 'Bookkeeper', 'Analyst', 'Analyst', 'Analyst', 'Analyst', 'Manager']\n",
    "\n",
    "for i, x in enumerate(b):\n",
    "    print(x, '({})'.format(a[i]))\n",
    "    print(c[i])\n",
    "    print()"
   ]
  },
  {
   "cell_type": "code",
   "execution_count": null,
   "metadata": {},
   "outputs": [],
   "source": [
    "# GOOD EXAMPLE\n",
    "import numpy as np\n",
    "\n",
    "ages = np.array([34, 25, 36, 45, 23, 56, 34, 23])\n",
    "names = ['Bob', 'Susie', 'Jordan', 'Michael', 'Trent', 'Claudia', 'Yvonne', 'Markus']\n",
    "occupations = ['Bookkeeper', 'Bookkeeper', 'Bookkeeper', 'Analyst', 'Analyst', 'Analyst', 'Analyst', 'Manager']\n",
    "\n",
    "for i, name in enumerate(names):\n",
    "    print(name, '({})'.format(ages[i]))\n",
    "    print(occupations[i])\n",
    "    print()"
   ]
  },
  {
   "cell_type": "markdown",
   "metadata": {},
   "source": [
    "## Elegance\n",
    "\n",
    "Write your code as if you know someone else will be reading it (hint hint). Temporary fixes and things you do quickly just to \"make it work\" should be edited into functions that have clear inputs and outputs, and whose utility is not overcomplicated.\n",
    "\n",
    " - Reduce functions into their most basic components, and string them together if needed. Do *not* make one gigantic function that does everything in your script.\n",
    " - Make your functions take clear and descriptive inputs and outputs. If I glance at your function, its arguments, and what it returns, I should be able to understand what the function does in a few seconds.\n",
    " - *If you're using a global variable, chances are you're doing it wrong.* QUESTION: Why are global variables bad?"
   ]
  },
  {
   "cell_type": "code",
   "execution_count": 1,
   "metadata": {},
   "outputs": [],
   "source": [
    "# BAD EXAMPLE\n",
    "def make_complex(*args):\n",
    "    x, y = args\n",
    "    return dict(**locals())"
   ]
  },
  {
   "cell_type": "code",
   "execution_count": 2,
   "metadata": {},
   "outputs": [],
   "source": [
    "# GOOD EXAMPLE\n",
    "def make_complex(x, y):\n",
    "    return {'x': x, 'y': y}"
   ]
  },
  {
   "cell_type": "markdown",
   "metadata": {},
   "source": [
    "## Single-line statements\n",
    "\n",
    "Generally a bad idea. We're not using punch cards, so there's no reason to not write out your code fully to help the reader understand what it's doing better."
   ]
  },
  {
   "cell_type": "code",
   "execution_count": 3,
   "metadata": {},
   "outputs": [],
   "source": [
    "#BAD EXAMPLE\n",
    "some_other_list_thing = [1, 2, 3, 4, 5]\n",
    "list_thing = [x**2. for x in range(len(some_other_list_thing))]"
   ]
  },
  {
   "cell_type": "code",
   "execution_count": 4,
   "metadata": {},
   "outputs": [],
   "source": [
    "#GOOD EXAMPLE\n",
    "some_other_list_thing = [1, 2, 3, 4, 5]\n",
    "list_thing = []\n",
    "for item in some_other_list_thing:\n",
    "    list_thing.append(item**2)"
   ]
  },
  {
   "cell_type": "code",
   "execution_count": 6,
   "metadata": {},
   "outputs": [],
   "source": [
    "#BETTER EXAMPLE\n",
    "import numpy as np\n",
    "some_other_list_thing = np.array([1, 2, 3, 4, 5])\n",
    "list_thing = some_other_list_thing**2"
   ]
  },
  {
   "cell_type": "code",
   "execution_count": null,
   "metadata": {},
   "outputs": [],
   "source": []
  }
 ],
 "metadata": {
  "kernelspec": {
   "display_name": "Python 3",
   "language": "python",
   "name": "python3"
  },
  "language_info": {
   "codemirror_mode": {
    "name": "ipython",
    "version": 3
   },
   "file_extension": ".py",
   "mimetype": "text/x-python",
   "name": "python",
   "nbconvert_exporter": "python",
   "pygments_lexer": "ipython3",
   "version": "3.7.6"
  }
 },
 "nbformat": 4,
 "nbformat_minor": 4
}
