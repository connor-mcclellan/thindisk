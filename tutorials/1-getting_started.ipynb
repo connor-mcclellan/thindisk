{
 "cells": [
  {
   "cell_type": "code",
   "execution_count": 1,
   "metadata": {},
   "outputs": [
    {
     "name": "stdout",
     "output_type": "stream",
     "text": [
      "Hello world!\n"
     ]
    }
   ],
   "source": [
    "print(\"Hello world!\")"
   ]
  },
  {
   "cell_type": "markdown",
   "metadata": {},
   "source": [
    "### Introduction to Python\n",
    "With Anaconda and Jupyter Notebook"
   ]
  },
  {
   "cell_type": "markdown",
   "metadata": {},
   "source": [
    "**How did we get here again?**\n",
    "Good question. After installing Anaconda on your computer, a lot of things will just *work*. So, you can use the command prompt (\"powershell\") to navigate around and create, view, delete, and run code files, and Anaconda will step in when it needs to to launch your text editor or run a script with Python.\n",
    "\n",
    "**Quick-launch guide:**\n",
    " * Open \"Windows Powershell\" by clicking in the search bar and typing \"powershell\". Press enter to open a terminal.\n",
    " * Navigate around with the following commands:\n",
    " \n",
    " `ls`: Shows the contents of the current folder, or \"directory\". It will show the date and time last modified, the file type, and the name.\n",
    " \n",
    " `cd`: Short for \"change directory\". You can use this to change what folder you're in by typing \"`cd name_of_folder`\"\n",
    " \n",
    " `mkdir`: Make Directory. Create a new folder with \"`mkdir name_of_new_folder`\"\n",
    " \n",
    " `rm`: Remove. Be VERY careful with this. In the command line, if you tell your computer to delete something, it'll do it without question. If you misspell a file or accidentally tell it to delete an entire folder, it'll do it without asking for confirmation. Usage: \"`rm file_to_be_deleted`\"\n",
    " \n",
    " `jupyter notebook`: This will start up your web browser with a Jupyter Notebook interface. This comes installed with Anaconda, and it basically uses your browser as a user-friendly interface for coding. You can create files, write code, run code, *everything*---and the files remain stored locally on your computer."
   ]
  },
  {
   "cell_type": "markdown",
   "metadata": {},
   "source": [
    "### Using Jupyter Notebook"
   ]
  },
  {
   "cell_type": "markdown",
   "metadata": {},
   "source": [
    "Jupyter Notebook is set up as a series of cells you can edit and run from beginning to end. You could make an entire file that's one big cell, in fact! In practice it's usually good to split things up while you're working. We'll see why later on. \n",
    "\n",
    "Cells can either contain text, called \"markdown\", or code. The drop-down menu called \"Cell\" at the top can be used to pick which kind of cell type you want. For example, right now I'm writing in Markdown, which is why this is displayed as text."
   ]
  },
  {
   "cell_type": "code",
   "execution_count": 3,
   "metadata": {},
   "outputs": [
    {
     "name": "stdout",
     "output_type": "stream",
     "text": [
      "Now I'm writing in code! But, since code has to have meaning to run successfully, I can't just type whatever I want without telling it to 'print' something first.\n"
     ]
    }
   ],
   "source": [
    "print(\"Now I'm writing in code! But, since code has to have meaning to run successfully, I can't just type whatever I want without telling it to 'print' something first.\")"
   ]
  },
  {
   "cell_type": "markdown",
   "metadata": {},
   "source": [
    "Let's run your first line of code using that handy `print()` statement I just showed you. Notice that I put parentheses after the word `print`. **Why is that?**\n",
    "\n",
    "`print` is a **function**. It takes an **argument**, which goes inside the parentheses and in our case is going to be something called a **string** (just a bunch of text characters!). Here are the pieces that will go into our one-line script:\n",
    "\n",
    "* **The Function**: It's called `print()`. From the Python documentation, we learn that it can print lots of things, but the **syntax** is very straightforward. You put whatever you want it to print in the parentheses, and it'll output that thing to the console.\n",
    "\n",
    "* **The Argument**: We want to print the text \"Hello world!\", which should be formatted as a **string**. In Python, anything you put in between quotation marks will be treated as a string in code. So, we will use `\"Hello world!\"` as our argument.\n",
    "\n",
    "Moment of truth! Let's see if our code works. Type out a line of code and then press `Shift + Enter` to run it."
   ]
  },
  {
   "cell_type": "code",
   "execution_count": 4,
   "metadata": {},
   "outputs": [
    {
     "name": "stdout",
     "output_type": "stream",
     "text": [
      "Hello world!\n"
     ]
    }
   ],
   "source": [
    "print(\"Hello world!\")"
   ]
  },
  {
   "cell_type": "markdown",
   "metadata": {},
   "source": [
    "Absolutely glorious. We've done it! Coding is of course much deeper than just printing things to the console: we can write our *own* functions, classes, define variables, do math, handle datasets with more dimensions than you can count containing billions of numbers---anything is possible! Python is very literally a **language**. When you know it, you can tell a computer to do almost anything and it'll follow your instructions. Printing \"Hello world!\" is the first step to becoming fluent!"
   ]
  },
  {
   "cell_type": "markdown",
   "metadata": {},
   "source": [
    "### Jupyter Tips and Tricks"
   ]
  },
  {
   "cell_type": "markdown",
   "metadata": {},
   "source": [
    " - **Double-click** on a cell to edit its contents. \n",
    " \n",
    " - When you've made your changes, you can press `Shift + Enter` to run the cell. \n",
    " \n",
    " - To add comments to code, use a `#` pound sign. Anything following that symbol on that line of text will be ignored when the code runs. Comments are very useful for documenting code.\n",
    "\n",
    " - Keep in mind the order that you run your cells in! See below:"
   ]
  },
  {
   "cell_type": "code",
   "execution_count": 2,
   "metadata": {},
   "outputs": [],
   "source": [
    "# Define a new variable, called x. Let's set it equal to the integer 5.\n",
    "x = 5"
   ]
  },
  {
   "cell_type": "code",
   "execution_count": 6,
   "metadata": {},
   "outputs": [
    {
     "name": "stdout",
     "output_type": "stream",
     "text": [
      "x is 5 and 2 times x is 10\n"
     ]
    }
   ],
   "source": [
    "# Do a math operation with our variable and print the result\n",
    "print(\"x is\", x, \"and 2 times x is\", x*2)"
   ]
  },
  {
   "cell_type": "markdown",
   "metadata": {},
   "source": [
    "If you change the value of x and re-run the line where we print the variable, the change won't take effect unless you also re-run the line where the value of x is changed.\n",
    "\n",
    " - The interface should automatically save your files for you and store checkpoints along the way. However, you can always save manually with `Ctrl + S`"
   ]
  },
  {
   "cell_type": "code",
   "execution_count": null,
   "metadata": {},
   "outputs": [],
   "source": []
  }
 ],
 "metadata": {
  "kernelspec": {
   "display_name": "Python 3",
   "language": "python",
   "name": "python3"
  },
  "language_info": {
   "codemirror_mode": {
    "name": "ipython",
    "version": 3
   },
   "file_extension": ".py",
   "mimetype": "text/x-python",
   "name": "python",
   "nbconvert_exporter": "python",
   "pygments_lexer": "ipython3",
   "version": "3.7.6"
  }
 },
 "nbformat": 4,
 "nbformat_minor": 2
}
