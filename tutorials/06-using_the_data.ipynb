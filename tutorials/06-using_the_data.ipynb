{
 "cells": [
  {
   "cell_type": "markdown",
   "metadata": {},
   "source": [
    "### Using the Data\n",
    "\n",
    "In this tutorial, we'll cover how to download and run the scripts you need to process our sample Athena++ data. From this we will create 1-D radial profiles of the density, gas temperature, and energy density of the midplane of the disk. With a little more work, we can also get the flux in the photosphere of the disk, but that will be a later tutorial."
   ]
  },
  {
   "cell_type": "markdown",
   "metadata": {},
   "source": [
    "#### Step 1\n",
    "**Download the data.** It can be found at this web address: https://github.com/mccbc/thindisk/blob/master/data/diskmc.out1.00001.athdf. Navigate to this page and click \"Download\" in the top right. Save it to your ``thindisk`` working directory on your computer."
   ]
  },
  {
   "cell_type": "markdown",
   "metadata": {},
   "source": [
    "#### Step 2\n",
    "**Download the scripts.** These are in the same GitHub folder. Direct links are below for convenience:\n",
    "\n",
    "https://github.com/mccbc/thindisk/blob/master/data/athena_read.py\n",
    "\n",
    "https://github.com/mccbc/thindisk/blob/master/data/plot_spherical.py\n",
    "\n",
    "These two scripts, `athena_read.py` and `plot_spherical.py`, should be downloaded to the same directory as your data. `athena_read.py` contains code that can interpret the `.athdf` file format in which our data is stored, and `plot_spherical.py` contains code that can show the data visually, using any number of **command-line arguments**. "
   ]
  },
  {
   "cell_type": "markdown",
   "metadata": {},
   "source": [
    "#### Step 3\n",
    "**Run plot_spherical.py with some command-line arguments.** This will tell the script what variable to plot, and the options we give it will create a 1-D radial profile out of 3-D data. Here's the way to do it:\n",
    "\n",
    "`python plot_spherical.py -am diskmc.out1.00001.athdf rho test.png`\n",
    "\n",
    "Let's break this down.\n",
    " - `python` : We can't tell the terminal to simply *run* a script. We have to tell the terminal what program to run the script in, so we *python* it. \n",
    " - `plot_spherical.py` : The name of the python script we want to run.\n",
    " - `-am` : These are known as **optional command-line arguments**. They don't have to be included for the program to run successfully, but `plot_spherical.py` is written in a way that it can accomplish one of several tasks depending on which options you specify. `-am` is shorthand for `-a -m`, which activates the flags `--average` and `--midplane`.\n",
    " - `diskmc.out1.00001.athdf` : The name of the data file we want to process. This is a **positional command-line argument**, and the script can't run without it.\n",
    " - `rho` : This is the name of the variable we want to plot on the y-axis, and is also a positional command-line argument. \"rho\" means density. The variables to choose from are \"tgas\", \"rho\", \"Ermc\", \"Frmc1\", \"Frmc2\", \"Frmc3\", \"Prmc11\", \"Prmc22\", \"Prmc33\", \"Prmc12\", \"Prmc13\", \"Prmc23\", \"Prmc21\", \"Prmc31\", \"Prmc32\", \"Cooling\", \"Eavemc\", and \"kapjmc\".\n",
    " - `test.png` : This is the name of the output file you want to produce. You can set it to whatever you want, since right now I have the code configured to show the plot rather than saving it as a png."
   ]
  },
  {
   "cell_type": "markdown",
   "metadata": {},
   "source": [
    "#### Step 4\n",
    "**Plot some other variables as a function of radius**. Use the list of variables above and try looking at some different data. What does the temperature profile look like? What about the energy density? (Hint: the energy density variable is called \"Ermc\")"
   ]
  },
  {
   "cell_type": "code",
   "execution_count": null,
   "metadata": {},
   "outputs": [],
   "source": []
  }
 ],
 "metadata": {
  "kernelspec": {
   "display_name": "Python 3",
   "language": "python",
   "name": "python3"
  },
  "language_info": {
   "codemirror_mode": {
    "name": "ipython",
    "version": 3
   },
   "file_extension": ".py",
   "mimetype": "text/x-python",
   "name": "python",
   "nbconvert_exporter": "python",
   "pygments_lexer": "ipython3",
   "version": "3.7.6"
  }
 },
 "nbformat": 4,
 "nbformat_minor": 4
}
