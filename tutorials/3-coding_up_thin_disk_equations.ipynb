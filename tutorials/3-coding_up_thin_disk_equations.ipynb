{
 "cells": [
  {
   "cell_type": "markdown",
   "metadata": {},
   "source": [
    "# 2. Coding Up the Thin Disk Equations"
   ]
  },
  {
   "cell_type": "markdown",
   "metadata": {},
   "source": [
    "Once we feel confident with using the terminal and opening Python files, we can start putting our equations into code. Create your own Jupyter Notebook and copy down this code cell by cell, making sure that each one of them runs as you go.\n",
    "\n",
    "First we need to import some **packages**. Python is just a language---a lot of the *power* comes from libraries and packages that programmers have written to do specific actions or store values of commonly-used numbers (like pi, for example)."
   ]
  },
  {
   "cell_type": "code",
   "execution_count": 2,
   "metadata": {},
   "outputs": [],
   "source": [
    "import numpy as np\n",
    "from astropy.constants import G"
   ]
  },
  {
   "cell_type": "markdown",
   "metadata": {},
   "source": [
    "There we go! If a package is successfully imported, it'll look like the cell didn't do anything. No output is produced. On the other hand, if we import a package that's misspelled or doesn't exist, we get something like this:"
   ]
  },
  {
   "cell_type": "code",
   "execution_count": 3,
   "metadata": {},
   "outputs": [
    {
     "ename": "ModuleNotFoundError",
     "evalue": "No module named 'hotgarbage'",
     "output_type": "error",
     "traceback": [
      "\u001b[0;31m---------------------------------------------------------------------------\u001b[0m",
      "\u001b[0;31mModuleNotFoundError\u001b[0m                       Traceback (most recent call last)",
      "\u001b[0;32m<ipython-input-3-f5899ed73c4e>\u001b[0m in \u001b[0;36m<module>\u001b[0;34m\u001b[0m\n\u001b[0;32m----> 1\u001b[0;31m \u001b[0;32mimport\u001b[0m \u001b[0mhotgarbage\u001b[0m\u001b[0;34m\u001b[0m\u001b[0;34m\u001b[0m\u001b[0m\n\u001b[0m",
      "\u001b[0;31mModuleNotFoundError\u001b[0m: No module named 'hotgarbage'"
     ]
    }
   ],
   "source": [
    "import hotgarbage"
   ]
  },
  {
   "cell_type": "markdown",
   "metadata": {},
   "source": [
    "This is called an **error message**, and will pop up any time Python finds something wrong with your code or encounters some problem while running. Error messages can be incredibly helpful if you know how to read them! For instance, they will always include a \"Traceback\" which finds the origin of the issue and tells you the line in which it was found. This one is a *ModuleNoteFoundError*, and it very astutely tells us that the module we tried to import was bogus.\n",
    "\n",
    "Moving on, let's define some *constants* that we'll be using in our equation. In code-speak, these are called **variables**, because we can set their values to be anything. However, we're just going to set the value of the variable once and then not touch it again."
   ]
  },
  {
   "cell_type": "code",
   "execution_count": 4,
   "metadata": {},
   "outputs": [],
   "source": [
    "M = 2 # Mass (arbitrary units)\n",
    "Mdot = 10 # Mass accretion rate (arbitrary units)\n",
    "r_in = 3 # Interior radius"
   ]
  },
  {
   "cell_type": "markdown",
   "metadata": {},
   "source": [
    "Now that we have those constants defined, we have an equation to program. We want to put this equation into the code:\n",
    "\n",
    "<img src=\"./figures/newtonian_flux_eqn.png\" alt=\"Flux equation\" width=\"400\"/>\n",
    "\n",
    "We have every variable defined except for `r`, so let's pick some arbitrary radius and see if we can get the equation to work!"
   ]
  },
  {
   "cell_type": "code",
   "execution_count": 5,
   "metadata": {},
   "outputs": [
    {
     "name": "stdout",
     "output_type": "stream",
     "text": [
      "3.335489648433291e-13\n"
     ]
    }
   ],
   "source": [
    "r = 4 # Radius at which to evaluate the equation\n",
    "print(3. * G.value * M * Mdot / (8. * np.pi * r**3) * (1. - np.sqrt(r_in / r)))"
   ]
  },
  {
   "cell_type": "markdown",
   "metadata": {},
   "source": [
    "There's a lot to pay attention to here. Note the following:\n",
    "\n",
    " - The numbers have a decimal even if they're round numbers. This is because, in Python, an integer can *only* ever be an integer, whereas a decimal (called a `float`) has enough precision to handle division, fractions, etc. Try this for example: calculate `2/3` with no decimal points, and then calculate `2./3.`. What's the difference?\n",
    " - The placement of parentheses is incredibly important! Math operations only apply to the quantity directly to the right of them. Therefore, if you want to write the fraction 3 over 8 pi, you can do `3 / (8 * np.pi)`, or `3 / 8 / np.pi`, but *NOT* `3 / 8 * pi`.\n",
    " - The equation has no units, because we haven't given it any! Later on we'll add units to all the constants we've defined and figure out what kind of quantity we're actually calculating here.\n",
    " \n",
    " Now to calculate the flux at a bunch of different radii we could just use this expression over and over again and change the value of `r` every time, but that would be tedious and exhausting. So, we make our lives easier with the use of a **function**. Much like the `print()` function we're familiar with, this function takes some *input* we give it and does something to it before returning an *output*. But, since we're the ones writing this function, we need to **define** what to do to the input before returning the output. The syntax is as follows:"
   ]
  },
  {
   "cell_type": "code",
   "execution_count": 6,
   "metadata": {},
   "outputs": [],
   "source": [
    "# Define a function called F with argument r\n",
    "def F(r):\n",
    "    flux = 3. * G.value * M * Mdot / (8. * np.pi * r**3) * (1. - np.sqrt(r_in / r))    # Calculate the flux\n",
    "    return flux      # Return the flux as an output"
   ]
  },
  {
   "cell_type": "markdown",
   "metadata": {},
   "source": [
    "If we run that cell with `Shift + Enter` and we don't get an error message, we know that at least our syntax is correct. But, as you'll notice, no output is given! That's because we've just *set up* the function, but now we have to *run* it. This is called **calling a function** and is done like this:"
   ]
  },
  {
   "cell_type": "code",
   "execution_count": 7,
   "metadata": {},
   "outputs": [
    {
     "name": "stdout",
     "output_type": "stream",
     "text": [
      "3.335489648433291e-13\n"
     ]
    }
   ],
   "source": [
    "print( F(4.) )"
   ]
  },
  {
   "cell_type": "markdown",
   "metadata": {},
   "source": [
    "It's that simple! We have our function, called `F()`, and whatever we put inside the parentheses is what it will use for the value of the radius. You'll notice that the number printed here is the same as the one we obtained a few lines above, because we gave it the same radius of 4 in arbitrary units. Let's try some other values:"
   ]
  },
  {
   "cell_type": "code",
   "execution_count": 8,
   "metadata": {},
   "outputs": [
    {
     "name": "stdout",
     "output_type": "stream",
     "text": [
      "-1.1664290800178942e-10\n",
      "-4.476276627004574e-12\n",
      "0.0\n",
      "3.335489648433291e-13\n",
      "2.8732104057396403e-13\n"
     ]
    }
   ],
   "source": [
    "print(F(1.))\n",
    "print(F(2.))\n",
    "print(F(3.))\n",
    "print(F(4.))\n",
    "print(F(5.))"
   ]
  },
  {
   "cell_type": "markdown",
   "metadata": {},
   "source": [
    "We could keep going but this is already getting repetitive. Instead let's make an **array** of radii at which to evaluate the function. An **array** is just a collection of numbers that are packaged together. It can have any number of dimensions, meaning you could store a bunch of numbers as rows and columns, or even 3d or 4d etc. grids! The elements of an array are accessed with an **index** that tells you where in the array a particular number is found. Here's an example:"
   ]
  },
  {
   "cell_type": "code",
   "execution_count": 9,
   "metadata": {},
   "outputs": [
    {
     "name": "stdout",
     "output_type": "stream",
     "text": [
      "[ 1.   1.5  2.   2.5  3.   3.5  4.   4.5  5.   5.5  6.   6.5  7.   7.5\n",
      "  8.   8.5  9.   9.5 10.  10.5 11.  11.5 12.  12.5 13.  13.5 14.  14.5\n",
      " 15.  15.5 16.  16.5 17.  17.5 18.  18.5 19.  19.5 20.  20.5 21.  21.5\n",
      " 22.  22.5 23.  23.5 24.  24.5 25.  25.5 26.  26.5 27.  27.5 28.  28.5\n",
      " 29.  29.5 30.  30.5 31.  31.5 32.  32.5 33.  33.5 34.  34.5 35.  35.5\n",
      " 36.  36.5 37.  37.5 38.  38.5 39.  39.5 40.  40.5 41.  41.5 42.  42.5\n",
      " 43.  43.5 44.  44.5 45.  45.5 46.  46.5 47.  47.5 48.  48.5 49.  49.5]\n"
     ]
    }
   ],
   "source": [
    "# Create an array\n",
    "# Syntax is (start point, end point, spacing)\n",
    "radii = np.arange(1, 50, 0.5)\n",
    "print(radii)"
   ]
  },
  {
   "cell_type": "code",
   "execution_count": 10,
   "metadata": {},
   "outputs": [
    {
     "name": "stdout",
     "output_type": "stream",
     "text": [
      "1.0\n"
     ]
    }
   ],
   "source": [
    "# Print the first element of the array\n",
    "print(radii[0])"
   ]
  },
  {
   "cell_type": "code",
   "execution_count": 11,
   "metadata": {},
   "outputs": [
    {
     "name": "stdout",
     "output_type": "stream",
     "text": [
      "8.0\n"
     ]
    }
   ],
   "source": [
    "# Print the 15th element of the array. Note that counting in Python starts at 0!\n",
    "print(radii[14])"
   ]
  },
  {
   "cell_type": "code",
   "execution_count": 12,
   "metadata": {},
   "outputs": [
    {
     "name": "stdout",
     "output_type": "stream",
     "text": [
      "49.5\n"
     ]
    }
   ],
   "source": [
    "# Print the last element of the array\n",
    "print(radii[-1])"
   ]
  },
  {
   "cell_type": "markdown",
   "metadata": {},
   "source": [
    "Here we're accessing specific **elements** of the array using their **index**. Index operations can become much more complicated and powerful, but we'll leave it at this for now. \n",
    "\n",
    "The other cool thing about arrays is that they can be used in math operations seamlessly! Instead of adding or multiplying a single number with another, Python automatically knows to use math operations on each element of the array instead. Check this out:"
   ]
  },
  {
   "cell_type": "code",
   "execution_count": 13,
   "metadata": {},
   "outputs": [
    {
     "name": "stdout",
     "output_type": "stream",
     "text": [
      "Here's my array:  [1 2 3 4 5 6 7 8 9]\n",
      "Here's my array times 2:  [ 2  4  6  8 10 12 14 16 18]\n",
      "Here's my array plus 5:  [ 6  7  8  9 10 11 12 13 14]\n",
      "Here's my array squared:  [ 1  4  9 16 25 36 49 64 81]\n"
     ]
    }
   ],
   "source": [
    "test_array = np.arange(1, 10) # If you don't set a spacing, it will default to 1.\n",
    "print(\"Here's my array: \", test_array)\n",
    "print(\"Here's my array times 2: \", test_array * 2)\n",
    "print(\"Here's my array plus 5: \", test_array + 5)\n",
    "print(\"Here's my array squared: \", test_array**2)"
   ]
  },
  {
   "cell_type": "markdown",
   "metadata": {},
   "source": [
    "Since the `F()` function we created earlier just uses simple math operations, we should be able to plug in an array of radii with no problem! Since the data type of the output matches the data type of the input in this case, we'll expect to get an array back out as well."
   ]
  },
  {
   "cell_type": "code",
   "execution_count": 14,
   "metadata": {},
   "outputs": [
    {
     "data": {
      "text/plain": [
       "array([-1.16642908e-10, -1.95554427e-11, -4.47627663e-12, -9.73309123e-13,\n",
       "        0.00000000e+00,  2.75676170e-13,  3.33548965e-13,  3.20866025e-13,\n",
       "        2.87321041e-13,  2.50391420e-13,  2.16059158e-13,  1.86031428e-13,\n",
       "        1.60427139e-13,  1.38817179e-13,  1.20631799e-13,  1.05315348e-13,\n",
       "        9.23783461e-14,  8.14082669e-14,  7.20646102e-14,  6.40689970e-14,\n",
       "        5.71946277e-14,  5.12567363e-14,  4.61045068e-14,  4.16144487e-14,\n",
       "        3.76850579e-14,  3.42325502e-14,  3.11874620e-14,  2.84919447e-14,\n",
       "        2.60976072e-14,  2.39637915e-14,  2.20561901e-14,  2.03457329e-14,\n",
       "        1.88076885e-14,  1.74209338e-14,  1.61673604e-14,  1.50313876e-14,\n",
       "        1.39995629e-14,  1.30602328e-14,  1.22032691e-14,  1.14198427e-14,\n",
       "        1.07022334e-14,  1.00436721e-14,  9.43820661e-15,  8.88058955e-15,\n",
       "        8.36618313e-15,  7.89087822e-15,  7.45102552e-15,  7.04337674e-15,\n",
       "        6.66503416e-15,  6.31340737e-15,  5.98617593e-15,  5.68125714e-15,\n",
       "        5.39677812e-15,  5.13105159e-15,  4.88255476e-15,  4.64991093e-15,\n",
       "        4.43187341e-15,  4.22731140e-15,  4.03519765e-15,  3.85459752e-15,\n",
       "        3.68465944e-15,  3.52460635e-15,  3.37372828e-15,  3.23137563e-15,\n",
       "        3.09695326e-15,  2.96991530e-15,  2.84976037e-15,  2.73602747e-15,\n",
       "        2.62829218e-15,  2.52616337e-15,  2.42928016e-15,  2.33730921e-15,\n",
       "        2.24994234e-15,  2.16689430e-15,  2.08790083e-15,  2.01271685e-15,\n",
       "        1.94111489e-15,  1.87288360e-15,  1.80782645e-15,  1.74576051e-15,\n",
       "        1.68651540e-15,  1.62993224e-15,  1.57586281e-15,  1.52416870e-15,\n",
       "        1.47472056e-15,  1.42739739e-15,  1.38208598e-15,  1.33868028e-15,\n",
       "        1.29708086e-15,  1.25719451e-15,  1.21893372e-15,  1.18221628e-15,\n",
       "        1.14696496e-15,  1.11310711e-15,  1.08057438e-15,  1.04930239e-15,\n",
       "        1.01923050e-15,  9.90301542e-16])"
      ]
     },
     "execution_count": 14,
     "metadata": {},
     "output_type": "execute_result"
    }
   ],
   "source": [
    "F(radii)"
   ]
  },
  {
   "cell_type": "markdown",
   "metadata": {},
   "source": [
    "Whoa! There we go. We've very quickly calculated the value of the flux at every radius we specified earlier. Now, I don't know about you, but I find it hard to read giant blocks of numbers. Let's visualise the result instead. I'll go through the details of plotting later on, but for now just copy this code as you see it here:"
   ]
  },
  {
   "cell_type": "code",
   "execution_count": 15,
   "metadata": {},
   "outputs": [
    {
     "data": {
      "image/png": "[encoded data removed]",
      "text/plain": [
       "<Figure size 432x288 with 1 Axes>"
      ]
     },
     "metadata": {
      "needs_background": "light"
     },
     "output_type": "display_data"
    }
   ],
   "source": [
    "# Import plotting package and tell it to show the plots right here in the notebook\n",
    "import matplotlib.pyplot as plt\n",
    "%matplotlib inline\n",
    "\n",
    "# Plot the data!\n",
    "plt.plot(radii, F(radii))\n",
    "plt.xlabel(\"Radius\") # Set the label on the x axis\n",
    "plt.ylabel(\"Flux\") # Set the label on the y axis\n",
    "plt.yscale(\"log\")# Use a log-scale on the y axis instead of linear\n",
    "plt.show()"
   ]
  },
  {
   "cell_type": "markdown",
   "metadata": {},
   "source": [
    "Very cool! This is an excellent start to understanding our equation and all its parameters."
   ]
  }
 ],
 "metadata": {
  "kernelspec": {
   "display_name": "Python 3",
   "language": "python",
   "name": "python3"
  },
  "language_info": {
   "codemirror_mode": {
    "name": "ipython",
    "version": 3
   },
   "file_extension": ".py",
   "mimetype": "text/x-python",
   "name": "python",
   "nbconvert_exporter": "python",
   "pygments_lexer": "ipython3",
   "version": "3.7.6"
  }
 },
 "nbformat": 4,
 "nbformat_minor": 4
}
