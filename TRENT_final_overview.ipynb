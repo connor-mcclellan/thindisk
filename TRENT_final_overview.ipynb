{
 "cells": [
  {
   "cell_type": "markdown",
   "metadata": {},
   "source": [
    "# Numerical Analysis of the Newtonian Thin Disk Model"
   ]
  },
  {
   "cell_type": "markdown",
   "metadata": {},
   "source": [
    "## Background\n",
    "\n",
    "### What is a black hole?\n",
    "\n",
    "For the purposes of this experiment, a black hole is a strong source of gravity at the center of our accretion disk structure. A black hole can heat up the material that falls into it via friction and tidal forces, which makes this material emit light.\n",
    "\n",
    "### What is an accretion disk?\n",
    "\n",
    "Gravitational forces from massive objects pull things inwards. Accretion is what happens when matter actually falls on to the central object. In a lot of cases, due to conservation of angular momentum and friction forces, the matter will organize itself into a disk as it falls inwards, called an accretion disk.\n",
    "\n",
    "### What is the \"Thin Disk\" accretion model?\n",
    "\n",
    "In the thin disk model, we assume\n",
    " 1. the material is orbiting much faster than it's falling in. The motion of the gas toward the black hole is slower than the gas's motion *around* the black hole. \n",
    " 2. the accretion disk is almost flat (its height is very small compared to its width)\n",
    " 3. gravitational forces are much larger than gas pressure forces\n",
    " 4. the flow of gas is stationary (not dependent on time)\n",
    " 5. the flow is rotationally symmetric\n",
    " 6. there is no outflowing material --- only *infalling* material\n",
    " \n",
    " Under these approximations, the equations of thin disk accretion can be derived using conservation of mass, radial and angular momentum, and energy.\n",
    " \n",
    "### What is Newtonian Gravity?\n",
    "\n",
    "Newtonian Gravity is a theory of gravity that just states that things with mass are attracted to each other. The force of this attraction is proportional to the product of the two masses divided by their distance squared. This is a theory of gravity that works quite well for everyday life --- swinging of pendulums, falling objects, etc. However, in the environment around a black hole, things get a little more complicated. Though we don't exactly expect Newtonian Gravity to hold up well in the disk of a black hole, we can still use it as a simple model to understand various physical processes in the disk.\n",
    "\n",
    "\n",
    "### Why does it matter?\n",
    "\n",
    "The thin disk model is a fairly simple equation. Such equations are exciting in physics because it's easy to use them to compare with observations, and they're general enough that they can explain a large variety of systems we see in nature. Think of it as a scientist's \"point-of-reference\" with which to compare what we see in real life. Does something agree well with the thin disk model? If it does, the assumptions of the thin disk model listed above are likely to be true.\n",
    "\n",
    "We have access to a sophisticated simulation of an accretion disk. Our goal in this project is to compare our simple analytic model to this data and see how well they agree. Where they don't agree, can we understand why? It's absolutely crucial to understand the limitations of any theoretical model, and by performing this experiment we hope to establish some of those limitations and be able to say \"Our Thin Disk model works in this scenario, but not this one\", for example.\n",
    "\n",
    "### What are we trying to show?\n",
    "\n",
    "In this experiment, we test the Thin Disk Accretion Model in Newtonian gravity against a sophisticated magnetohydrodynamics simulation. We will accomplish this by calculating the equations of the model, matching the parameters used in the simulation for black hole mass, and seeing how their temperature and density profiles compare. Additionally, we use the free parameters of the model to constrain the average mass accretion rate in this simulated black hole.\n",
    "\n",
    "### Hypothesis\n",
    "\n",
    "The null hypothesis for this project would be something like \"The observed similarities in the radial profiles of the thin disk accretion model and simulated black hole data are due only to chance and uncertainty in the simulated data, which was produced numerically\". Through our comparison, we have shown two independent ways in which the model and data agree, indicating that the thin disk model does in fact work quite well (though there are some areas of exception).\n",
    "\n",
    "#### Variables\n",
    "\n",
    "**Independent Variables**: For this project, we pretty much just want to use the radius away from the black hole as the variable upon which the other parameters depend.\n",
    " \n",
    "**Dependent Variables**: Temperature as a function of radius, mass density as a function of radius\n",
    "\n",
    "### How do we show it?\n",
    "\n",
    "Your figures should guide your work and presentation. Here's a list of what we want to show for this experiment.\n",
    "\n",
    "1. A picture of the simulated disk. In your presentation, you should use this to help the audience understand which parts of the disk we can describe with the thin disk accretion model.\n",
    "2. Temperature data vs. radius, with the thin disk model overplotted. Use this to explain how the model is derived, and in what areas it agrees best with the model. You can also show the results of your power-law fit here, and compare the power-law with the model at large radii.\n",
    "3. Density data vs. radius, with the thin disk model overplotted. Again, use your power-law fitting code to put a trend line on the data and describe how the density falls off with radius. You will need to code up the equation for thin disk density as a function of radius, which I will give you shortly.\n",
    "\n",
    "In addition to talking about your methods, discussion of the results of each of these plots will form the basis of your presentation."
   ]
  },
  {
   "cell_type": "code",
   "execution_count": null,
   "metadata": {},
   "outputs": [],
   "source": []
  }
 ],
 "metadata": {
  "kernelspec": {
   "display_name": "Python 3",
   "language": "python",
   "name": "python3"
  },
  "language_info": {
   "codemirror_mode": {
    "name": "ipython",
    "version": 3
   },
   "file_extension": ".py",
   "mimetype": "text/x-python",
   "name": "python",
   "nbconvert_exporter": "python",
   "pygments_lexer": "ipython3",
   "version": "3.7.6"
  }
 },
 "nbformat": 4,
 "nbformat_minor": 4
}
